{
 "cells": [
  {
   "cell_type": "markdown",
   "metadata": {},
   "source": [
    "# IOTA-Python-Client-example\n",
    "- `module` [download](https://nightly.link/iotaledger/iota.rs/workflows/python_binding_publish/dev)\n",
    "- `module` 安裝可參考 `README.md` 或可參考 `reference iota wiki`\n",
    "- reference\n",
    "  - [iota wiki](https://wiki.iota.org/iota.rs/libraries/python/getting_started)\n"
   ]
  },
  {
   "cell_type": "code",
   "execution_count": 1,
   "metadata": {},
   "outputs": [],
   "source": [
    "import iota_client"
   ]
  },
  {
   "cell_type": "code",
   "execution_count": 2,
   "metadata": {},
   "outputs": [],
   "source": [
    "# init connect\n",
    "con_client = iota_client.Client()"
   ]
  },
  {
   "cell_type": "code",
   "execution_count": 3,
   "metadata": {},
   "outputs": [
    {
     "data": {
      "text/plain": [
       "True"
      ]
     },
     "execution_count": 3,
     "metadata": {},
     "output_type": "execute_result"
    }
   ],
   "source": [
    "# check health\n",
    "con_client.get_health()"
   ]
  },
  {
   "cell_type": "code",
   "execution_count": 4,
   "metadata": {},
   "outputs": [],
   "source": [
    "# create index & mssg\n",
    "index = 'Rock'\n",
    "mssg  = 'Hello World IOTA' "
   ]
  },
  {
   "cell_type": "code",
   "execution_count": 5,
   "metadata": {},
   "outputs": [
    {
     "data": {
      "text/plain": [
       "{'message_id': 'aab811950ff6c98ed6b6928b2adf1ea0d81b7a679469a1e693dc2c8a412cda57',\n",
       " 'network_id': 6514788332515804015,\n",
       " 'parents': ['336e759ffeb55f5554b282d2dc1691feb686d34e4afbba1f44e2f0a61969506e',\n",
       "  'a7d11e2aac48e90661da2ebada54c339fa52debb487c8acd420dbcc204d3de72',\n",
       "  'a8b16b6dc1b0f54daadc13f297812f7b56046db07f38b5d040666972baabba91',\n",
       "  'eadf607ecc0a15f8d2ba303fde28aae220e8cbbc630cfafdd7dad9571ff9c674'],\n",
       " 'payload': {'transaction': None,\n",
       "  'milestone': None,\n",
       "  'indexation': [{'index': '526f636b',\n",
       "    'data': [72,\n",
       "     101,\n",
       "     108,\n",
       "     108,\n",
       "     111,\n",
       "     32,\n",
       "     87,\n",
       "     111,\n",
       "     114,\n",
       "     108,\n",
       "     100,\n",
       "     32,\n",
       "     73,\n",
       "     79,\n",
       "     84,\n",
       "     65]}],\n",
       "  'receipt': None,\n",
       "  'treasury_transaction': None},\n",
       " 'nonce': 44158}"
      ]
     },
     "execution_count": 5,
     "metadata": {},
     "output_type": "execute_result"
    }
   ],
   "source": [
    "# sending message\n",
    "con_client.message(index=index, data_str=mssg)"
   ]
  },
  {
   "cell_type": "markdown",
   "metadata": {},
   "source": [
    "完整Code"
   ]
  },
  {
   "cell_type": "code",
   "execution_count": null,
   "metadata": {},
   "outputs": [],
   "source": [
    "import iota_client\n",
    "\n",
    "try:\n",
    "    # init connect\n",
    "    client = iota_client.Client()\n",
    "\n",
    "    # check node health\n",
    "    is_health = client.get_health()\n",
    "    if not is_health:\n",
    "        raise ValueError('node is not healthy, please check node is on, or change node address')\n",
    "    \n",
    "    # prepare index and mssg\n",
    "    for i in range(2):\n",
    "        idx_name = f'Rock' \n",
    "        mssg     = f'hello world {i}'\n",
    "        \n",
    "        # send message\n",
    "        client.message(index=idx_name, data_str=mssg)\n",
    "        \n",
    "except ValueError as ve:\n",
    "    print(ve)\n",
    "\n",
    "except Exception as e:\n",
    "    print(e)"
   ]
  }
 ],
 "metadata": {
  "interpreter": {
   "hash": "fd5b594d9b61e0c15da005fc4fb3a638bfb17c61357964aa553293a9d0b96704"
  },
  "kernelspec": {
   "display_name": "Python 3.9.6 ('venv': venv)",
   "language": "python",
   "name": "python3"
  },
  "language_info": {
   "codemirror_mode": {
    "name": "ipython",
    "version": 3
   },
   "file_extension": ".py",
   "mimetype": "text/x-python",
   "name": "python",
   "nbconvert_exporter": "python",
   "pygments_lexer": "ipython3",
   "version": "3.9.6"
  },
  "orig_nbformat": 4
 },
 "nbformat": 4,
 "nbformat_minor": 2
}
